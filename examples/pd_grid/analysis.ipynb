{
 "cells": [
  {
   "cell_type": "markdown",
   "metadata": {},
   "source": [
    "# Demographic Prisoner's Dilemma\n",
    "\n",
    "The Demographic Prisoner's Dilemma is a family of variants on the classic two-player [Prisoner's Dilemma](https://en.wikipedia.org/wiki/Prisoner's_dilemma), first developed by [Joshua Epstein](http://citeseerx.ist.psu.edu/viewdoc/download?doi=10.1.1.8.8629&rep=rep1&type=pdf). The model consists of agents, each with a strategy of either Cooperate or Defect. Each agent's payoff is based on its strategy and the strategies of its spatial neighbors. After each step of the model, the agents adopt the strategy of their neighbor with the highest total score. \n",
    "\n",
    "The specific variant presented here is adapted from the [Evolutionary Prisoner's Dilemma](http://ccl.northwestern.edu/netlogo/models/PDBasicEvolutionary) model included with NetLogo. Its payoff table is a slight variant of the traditional PD payoff table:\n",
    "\n",
    "<table>\n",
    "    <tr><td></td><td>**Cooperate**</td><td>**Defect**</td></tr>\n",
    "    <tr><td>**Cooperate**</td><td>1, 1</td><td>0, *D*</td></tr>\n",
    "    <tr><td>**Defect**</td><td>*D*, 0</td><td>0, 0</td></tr>\n",
    "</table>\n",
    "\n",
    "Where *D* is the defection bonus, generally set higher than 1. In these runs, the defection bonus is set to $D=1.6$.\n",
    "\n",
    "The Demographic Prisoner's Dilemma demonstrates how simple rules can lead to the emergence of widespread cooperation, despite the Defection strategy dominiating each individual interaction game. However, it is also interesting for another reason: it is known to be sensitive to the activation regime employed in it.\n",
    "\n",
    "Below, we demonstrate this by instantiating the same model (with the same random seed) three times, with three different activation regimes: \n",
    "\n",
    "* Sequential activation, where agents are activated in the order they were added to the model;\n",
    "* Random activation, where they are activated in random order every step;\n",
    "* Simultaneous activation, simulating them all being activated simultaneously.\n",
    "\n"
   ]
  },
  {
   "cell_type": "code",
   "execution_count": 1,
   "metadata": {
    "ExecuteTime": {
     "end_time": "2024-10-12T18:40:08.509679300Z",
     "start_time": "2024-10-12T18:40:07.495640900Z"
    }
   },
   "outputs": [],
   "source": [
    "import matplotlib.pyplot as plt\n",
    "import numpy as np\n",
    "from pd_grid.model import PdGrid\n",
    "\n",
    "%matplotlib inline"
   ]
  },
  {
   "cell_type": "markdown",
   "metadata": {},
   "source": [
    "## Helper functions"
   ]
  },
  {
   "cell_type": "code",
   "execution_count": 3,
   "metadata": {
    "ExecuteTime": {
     "end_time": "2024-10-12T18:40:21.595726700Z",
     "start_time": "2024-10-12T18:40:21.584749500Z"
    }
   },
   "outputs": [],
   "source": [
    "bwr = plt.get_cmap(\"bwr\")\n",
    "\n",
    "\n",
    "def draw_grid(model, ax=None):\n",
    "    \"\"\"\n",
    "    Draw the current state of the grid, with Defecting agents in red\n",
    "    and Cooperating agents in blue.\n",
    "    \"\"\"\n",
    "    if not ax:\n",
    "        fig, ax = plt.subplots(figsize=(6, 6))\n",
    "    grid = np.zeros((model.grid.width, model.grid.height))\n",
    "    for agent, (x, y) in model.grid.coord_iter():\n",
    "        if agent.move == \"D\":\n",
    "            grid[y][x] = 1\n",
    "        else:\n",
    "            grid[y][x] = 0\n",
    "    ax.pcolormesh(grid, cmap=bwr, vmin=0, vmax=1)\n",
    "    ax.axis(\"off\")\n",
    "    ax.set_title(f\"Steps: {model.steps}\")"
   ]
  },
  {
   "cell_type": "code",
   "execution_count": 4,
   "metadata": {
    "ExecuteTime": {
     "end_time": "2024-10-12T18:40:23.224324200Z",
     "start_time": "2024-10-12T18:40:23.209653900Z"
    }
   },
   "outputs": [],
   "source": [
    "def run_model(model):\n",
    "    \"\"\"\n",
    "    Run an experiment with a given model, and plot the results.\n",
    "    \"\"\"\n",
    "    fig = plt.figure(figsize=(12, 8))\n",
    "\n",
    "    ax1 = fig.add_subplot(231)\n",
    "    ax2 = fig.add_subplot(232)\n",
    "    ax3 = fig.add_subplot(233)\n",
    "    ax4 = fig.add_subplot(212)\n",
    "\n",
    "    draw_grid(model, ax1)\n",
    "    model.run(10)\n",
    "    draw_grid(model, ax2)\n",
    "    model.run(10)\n",
    "    draw_grid(model, ax3)\n",
    "    model.datacollector.get_model_vars_dataframe().plot(ax=ax4)"
   ]
  },
  {
   "cell_type": "code",
   "execution_count": 5,
   "metadata": {
    "ExecuteTime": {
     "end_time": "2024-10-12T18:40:24.974533Z",
     "start_time": "2024-10-12T18:40:24.962385Z"
    }
   },
   "outputs": [],
   "source": [
    "# Set the random seed\n",
    "seed = 44"
   ]
  },
  {
   "cell_type": "markdown",
   "metadata": {},
   "source": [
    "## Sequential Activation"
   ]
  },
  {
   "cell_type": "code",
   "execution_count": 11,
   "metadata": {
    "ExecuteTime": {
     "end_time": "2024-10-12T19:40:21.239669400Z",
     "start_time": "2024-10-12T19:40:21.218425800Z"
    }
   },
   "outputs": [
    {
     "ename": "AttributeError",
     "evalue": "module 'mesa' has no attribute 'RandomActivation'",
     "output_type": "error",
     "traceback": [
      "\u001B[1;31m---------------------------------------------------------------------------\u001B[0m",
      "\u001B[1;31mAttributeError\u001B[0m                            Traceback (most recent call last)",
      "Cell \u001B[1;32mIn[11], line 1\u001B[0m\n\u001B[1;32m----> 1\u001B[0m m \u001B[38;5;241m=\u001B[39m \u001B[43mPdGrid\u001B[49m\u001B[43m(\u001B[49m\u001B[38;5;241;43m100\u001B[39;49m\u001B[43m,\u001B[49m\u001B[43m \u001B[49m\u001B[38;5;241;43m150\u001B[39;49m\u001B[43m,\u001B[49m\u001B[43m \u001B[49m\u001B[38;5;124;43m\"\u001B[39;49m\u001B[38;5;124;43mSequential\u001B[39;49m\u001B[38;5;124;43m\"\u001B[39;49m\u001B[43m,\u001B[49m\u001B[43m \u001B[49m\u001B[43mseed\u001B[49m\u001B[38;5;241;43m=\u001B[39;49m\u001B[43mseed\u001B[49m\u001B[43m)\u001B[49m\n\u001B[0;32m      2\u001B[0m run_model(m)\n",
      "File \u001B[1;32m~\\PycharmProjects\\mesa-examples-lab5-marusych\\examples\\pd_grid\\pd_grid\\model.py:19\u001B[0m, in \u001B[0;36mPdGrid.__init__\u001B[1;34m(self, width, height, activation_order, payoffs, seed)\u001B[0m\n\u001B[0;32m     17\u001B[0m \u001B[38;5;28mself\u001B[39m\u001B[38;5;241m.\u001B[39mactivation_order \u001B[38;5;241m=\u001B[39m activation_order\n\u001B[0;32m     18\u001B[0m \u001B[38;5;28mself\u001B[39m\u001B[38;5;241m.\u001B[39mgrid \u001B[38;5;241m=\u001B[39m mesa\u001B[38;5;241m.\u001B[39mspace\u001B[38;5;241m.\u001B[39mSingleGrid(width, height, torus\u001B[38;5;241m=\u001B[39m\u001B[38;5;28;01mTrue\u001B[39;00m)\n\u001B[1;32m---> 19\u001B[0m \u001B[38;5;28mself\u001B[39m\u001B[38;5;241m.\u001B[39mschedule \u001B[38;5;241m=\u001B[39m \u001B[43mmesa\u001B[49m\u001B[38;5;241;43m.\u001B[39;49m\u001B[43mRandomActivation\u001B[49m(\u001B[38;5;28mself\u001B[39m)  \u001B[38;5;66;03m# Додаємо план\u001B[39;00m\n\u001B[0;32m     21\u001B[0m \u001B[38;5;66;03m# Create agents\u001B[39;00m\n\u001B[0;32m     22\u001B[0m \u001B[38;5;28;01mfor\u001B[39;00m x \u001B[38;5;129;01min\u001B[39;00m \u001B[38;5;28mrange\u001B[39m(width):\n",
      "\u001B[1;31mAttributeError\u001B[0m: module 'mesa' has no attribute 'RandomActivation'"
     ]
    }
   ],
   "source": [
    "m = PdGrid(1000, 1000, \"Sequential\", seed=seed)\n",
    "run_model(m)"
   ]
  },
  {
   "cell_type": "markdown",
   "metadata": {},
   "source": [
    "## Random Activation"
   ]
  },
  {
   "cell_type": "code",
   "execution_count": 12,
   "metadata": {
    "ExecuteTime": {
     "end_time": "2024-10-12T18:14:22.511820300Z",
     "start_time": "2024-10-12T18:14:22.488367600Z"
    }
   },
   "outputs": [
    {
     "ename": "TypeError",
     "evalue": "Agent.__init__() missing 1 required positional argument: 'model'",
     "output_type": "error",
     "traceback": [
      "\u001B[1;31m---------------------------------------------------------------------------\u001B[0m",
      "\u001B[1;31mTypeError\u001B[0m                                 Traceback (most recent call last)",
      "Cell \u001B[1;32mIn[12], line 1\u001B[0m\n\u001B[1;32m----> 1\u001B[0m m \u001B[38;5;241m=\u001B[39m \u001B[43mPdGrid\u001B[49m\u001B[43m(\u001B[49m\u001B[38;5;241;43m50\u001B[39;49m\u001B[43m,\u001B[49m\u001B[43m \u001B[49m\u001B[38;5;241;43m50\u001B[39;49m\u001B[43m,\u001B[49m\u001B[43m \u001B[49m\u001B[38;5;124;43m\"\u001B[39;49m\u001B[38;5;124;43mRandom\u001B[39;49m\u001B[38;5;124;43m\"\u001B[39;49m\u001B[43m,\u001B[49m\u001B[43m \u001B[49m\u001B[43mseed\u001B[49m\u001B[38;5;241;43m=\u001B[39;49m\u001B[43mseed\u001B[49m\u001B[43m)\u001B[49m\n\u001B[0;32m      2\u001B[0m run_model(m)\n",
      "File \u001B[1;32m~\\PycharmProjects\\mesa-examples-lab5-marusych\\examples\\pd_grid\\pd_grid\\model.py:35\u001B[0m, in \u001B[0;36mPdGrid.__init__\u001B[1;34m(self, width, height, activation_order, payoffs, seed)\u001B[0m\n\u001B[0;32m     33\u001B[0m \u001B[38;5;28;01mfor\u001B[39;00m x \u001B[38;5;129;01min\u001B[39;00m \u001B[38;5;28mrange\u001B[39m(width):\n\u001B[0;32m     34\u001B[0m     \u001B[38;5;28;01mfor\u001B[39;00m y \u001B[38;5;129;01min\u001B[39;00m \u001B[38;5;28mrange\u001B[39m(height):\n\u001B[1;32m---> 35\u001B[0m         agent \u001B[38;5;241m=\u001B[39m \u001B[43mPDAgent\u001B[49m\u001B[43m(\u001B[49m\u001B[38;5;28;43mself\u001B[39;49m\u001B[43m)\u001B[49m\n\u001B[0;32m     36\u001B[0m         \u001B[38;5;28mself\u001B[39m\u001B[38;5;241m.\u001B[39mgrid\u001B[38;5;241m.\u001B[39mplace_agent(agent, (x, y))\n\u001B[0;32m     38\u001B[0m \u001B[38;5;28mself\u001B[39m\u001B[38;5;241m.\u001B[39mdatacollector \u001B[38;5;241m=\u001B[39m mesa\u001B[38;5;241m.\u001B[39mDataCollector(\n\u001B[0;32m     39\u001B[0m     {\n\u001B[0;32m     40\u001B[0m         \u001B[38;5;124m\"\u001B[39m\u001B[38;5;124mCooperating_Agents\u001B[39m\u001B[38;5;124m\"\u001B[39m: \u001B[38;5;28;01mlambda\u001B[39;00m m: \u001B[38;5;28mlen\u001B[39m(\n\u001B[1;32m   (...)\u001B[0m\n\u001B[0;32m     43\u001B[0m     }\n\u001B[0;32m     44\u001B[0m )\n",
      "File \u001B[1;32m~\\PycharmProjects\\mesa-examples-lab5-marusych\\examples\\pd_grid\\pd_grid\\agent.py:16\u001B[0m, in \u001B[0;36mPDAgent.__init__\u001B[1;34m(self, model, starting_move)\u001B[0m\n\u001B[0;32m      7\u001B[0m \u001B[38;5;28;01mdef\u001B[39;00m \u001B[38;5;21m__init__\u001B[39m(\u001B[38;5;28mself\u001B[39m, model, starting_move\u001B[38;5;241m=\u001B[39m\u001B[38;5;28;01mNone\u001B[39;00m):\n\u001B[0;32m      8\u001B[0m \u001B[38;5;250m    \u001B[39m\u001B[38;5;124;03m\"\"\"\u001B[39;00m\n\u001B[0;32m      9\u001B[0m \u001B[38;5;124;03m    Create a new Prisoner's Dilemma agent.\u001B[39;00m\n\u001B[0;32m     10\u001B[0m \n\u001B[1;32m   (...)\u001B[0m\n\u001B[0;32m     14\u001B[0m \u001B[38;5;124;03m                       C(ooperating) or D(efecting). Otherwise, random.\u001B[39;00m\n\u001B[0;32m     15\u001B[0m \u001B[38;5;124;03m    \"\"\"\u001B[39;00m\n\u001B[1;32m---> 16\u001B[0m     \u001B[38;5;28;43msuper\u001B[39;49m\u001B[43m(\u001B[49m\u001B[43m)\u001B[49m\u001B[38;5;241;43m.\u001B[39;49m\u001B[38;5;21;43m__init__\u001B[39;49m\u001B[43m(\u001B[49m\u001B[43mmodel\u001B[49m\u001B[43m)\u001B[49m\n\u001B[0;32m     17\u001B[0m     \u001B[38;5;28mself\u001B[39m\u001B[38;5;241m.\u001B[39mscore \u001B[38;5;241m=\u001B[39m \u001B[38;5;241m0\u001B[39m\n\u001B[0;32m     18\u001B[0m     \u001B[38;5;28;01mif\u001B[39;00m starting_move:\n",
      "\u001B[1;31mTypeError\u001B[0m: Agent.__init__() missing 1 required positional argument: 'model'"
     ]
    }
   ],
   "source": [
    "m = PdGrid(50, 50, \"Random\", seed=seed)\n",
    "run_model(m)"
   ]
  },
  {
   "cell_type": "markdown",
   "metadata": {
    "collapsed": true
   },
   "source": [
    "## Simultaneous Activation"
   ]
  },
  {
   "cell_type": "code",
   "execution_count": 7,
   "metadata": {},
   "outputs": [
    {
     "data": {
      "image/png": "[encoded data removed]",
      "text/plain": [
       "<Figure size 864x576 with 4 Axes>"
      ]
     },
     "metadata": {},
     "output_type": "display_data"
    }
   ],
   "source": [
    "m = PdGrid(50, 50, \"Simultaneous\", seed=seed)\n",
    "run_model(m)"
   ]
  },
  {
   "cell_type": "code",
   "execution_count": null,
   "metadata": {},
   "outputs": [],
   "source": []
  }
 ],
 "metadata": {
  "kernelspec": {
   "name": "python3",
   "language": "python",
   "display_name": "Python 3 (ipykernel)"
  },
  "language_info": {
   "codemirror_mode": {
    "name": "ipython",
    "version": 3
   },
   "file_extension": ".py",
   "mimetype": "text/x-python",
   "name": "python",
   "nbconvert_exporter": "python",
   "pygments_lexer": "ipython3",
   "version": "3.6.6"
  }
 },
 "nbformat": 4,
 "nbformat_minor": 1
}
